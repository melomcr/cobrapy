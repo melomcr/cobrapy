{
 "metadata": {
  "name": "",
  "signature": "sha256:4030302a923b0ec49d44a4e97d17bba79bfe6d68eca29d8f0f2d7d41007812bc"
 },
 "nbformat": 3,
 "nbformat_minor": 0,
 "worksheets": [
  {
   "cells": [
    {
     "cell_type": "heading",
     "level": 1,
     "metadata": {},
     "source": [
      "Getting Started"
     ]
    },
    {
     "cell_type": "markdown",
     "metadata": {},
     "source": [
      "This example is available as an IPython [notebook](http://nbviewer.ipython.org/github/opencobra/cobrapy/blob/master/documentation_builder/getting_started.ipynb)."
     ]
    },
    {
     "cell_type": "markdown",
     "metadata": {},
     "source": [
      "To begin with, cobrapy comes with two bundled models for _Salmonella_ and _E. coli_. To load a test model, type"
     ]
    },
    {
     "cell_type": "code",
     "collapsed": false,
     "input": [
      "from __future__ import print_function\n",
      "import cobra.test\n",
      "model = cobra.test.create_test_model(cobra.test.salmonella_pickle)\n"
     ],
     "language": "python",
     "metadata": {},
     "outputs": [],
     "prompt_number": 1
    },
    {
     "cell_type": "markdown",
     "metadata": {},
     "source": [
      "The reactions, metabolites, and genes attributes of the cobrapy model are are a special type of list called a DictList, and each one is made up of Reaction, Metabolite and Gene objects respectively."
     ]
    },
    {
     "cell_type": "code",
     "collapsed": false,
     "input": [
      "print(len(model.reactions))\n",
      "print(len(model.metabolites))\n",
      "print(len(model.genes))"
     ],
     "language": "python",
     "metadata": {},
     "outputs": [
      {
       "output_type": "stream",
       "stream": "stdout",
       "text": [
        "2546\n",
        "1802\n",
        "1264\n"
       ]
      }
     ],
     "prompt_number": 2
    },
    {
     "cell_type": "markdown",
     "metadata": {},
     "source": [
      "Just like a regular list, objects in the DictList can be retrived by index. For example, to get the 30th reaction in the model (at index 29 because of [0-indexing](https://en.wikipedia.org/wiki/Z ero-based_numbering)):"
     ]
    },
    {
     "cell_type": "code",
     "collapsed": false,
     "input": [
      "model.reactions[29]"
     ],
     "language": "python",
     "metadata": {},
     "outputs": [
      {
       "metadata": {},
       "output_type": "pyout",
       "prompt_number": 3,
       "text": [
        "<Reaction 2AGPA180tipp at 0x5446f50>"
       ]
      }
     ],
     "prompt_number": 3
    },
    {
     "cell_type": "markdown",
     "metadata": {},
     "source": [
      "Addictionally, items can be retrived by their id using the get_by_id() function. For example, to get the cytosolic atp metabolite object (the id is \"atp_c\"), we can do the following:"
     ]
    },
    {
     "cell_type": "code",
     "collapsed": false,
     "input": [
      "model.metabolites.get_by_id(\"atp_c\")"
     ],
     "language": "python",
     "metadata": {},
     "outputs": [
      {
       "metadata": {},
       "output_type": "pyout",
       "prompt_number": 4,
       "text": [
        "<Metabolite atp_c at 0x543e390>"
       ]
      }
     ],
     "prompt_number": 4
    },
    {
     "cell_type": "markdown",
     "metadata": {},
     "source": [
      "As an added bonus, users with an interactive shell such as IPython will be able to tab-complete to list elements inside a list. While this is not recommended behavior for most code because of the possibility for characters like \"-\" inside ids, this is very useful while in an interactive prompt:"
     ]
    },
    {
     "cell_type": "code",
     "collapsed": false,
     "input": [
      "model.reactions.EX_glc__D_e.lower_bound"
     ],
     "language": "python",
     "metadata": {},
     "outputs": [
      {
       "metadata": {},
       "output_type": "pyout",
       "prompt_number": 5,
       "text": [
        "0.0"
       ]
      }
     ],
     "prompt_number": 5
    },
    {
     "cell_type": "heading",
     "level": 2,
     "metadata": {},
     "source": [
      "Reactions"
     ]
    },
    {
     "cell_type": "markdown",
     "metadata": {},
     "source": [
      "We will consider the reaction glucose 6-phosphate isomerase, which interconverts glucose 6-phosphate and fructose 6-phosphate. The reaction id for this reaction in our test model is PGI."
     ]
    },
    {
     "cell_type": "code",
     "collapsed": false,
     "input": [
      "pgi = model.reactions.get_by_id(\"PGI\")\n",
      "pgi"
     ],
     "language": "python",
     "metadata": {},
     "outputs": [
      {
       "metadata": {},
       "output_type": "pyout",
       "prompt_number": 6,
       "text": [
        "<Reaction PGI at 0x6711310>"
       ]
      }
     ],
     "prompt_number": 6
    },
    {
     "cell_type": "markdown",
     "metadata": {},
     "source": [
      "We can view the full name and reaction catalyzed as strings"
     ]
    },
    {
     "cell_type": "code",
     "collapsed": false,
     "input": [
      "print(pgi.name)\n",
      "print(pgi.reaction)"
     ],
     "language": "python",
     "metadata": {},
     "outputs": [
      {
       "output_type": "stream",
       "stream": "stdout",
       "text": [
        "glucose 6 phosphate isomerase\n",
        "g6p_c <=> f6p_c\n"
       ]
      }
     ],
     "prompt_number": 7
    },
    {
     "cell_type": "markdown",
     "metadata": {},
     "source": [
      "We can also view reaction upper and lower bounds. Because the pgi.lower_bound < 0, and pgi.upper_bound > 0, pgi is reversible"
     ]
    },
    {
     "cell_type": "code",
     "collapsed": false,
     "input": [
      "print(pgi.lower_bound, \"< pgi <\", pgi.upper_bound)\n",
      "print(pgi.reversibility)"
     ],
     "language": "python",
     "metadata": {},
     "outputs": [
      {
       "output_type": "stream",
       "stream": "stdout",
       "text": [
        "-1000.0 < pgi < 1000.0\n",
        "True\n"
       ]
      }
     ],
     "prompt_number": 8
    },
    {
     "cell_type": "markdown",
     "metadata": {},
     "source": [
      "We can also ensure the reaction is mass balanced. This function will return elements which violate mass balance. If it comes back empty, then the reaction is mass balanced."
     ]
    },
    {
     "cell_type": "code",
     "collapsed": false,
     "input": [
      "pgi.check_mass_balance()"
     ],
     "language": "python",
     "metadata": {},
     "outputs": [
      {
       "metadata": {},
       "output_type": "pyout",
       "prompt_number": 9,
       "text": [
        "[]"
       ]
      }
     ],
     "prompt_number": 9
    },
    {
     "cell_type": "markdown",
     "metadata": {},
     "source": [
      "In order to add a metabolite, we pass in a dict with the metabolite object and its coefficient"
     ]
    },
    {
     "cell_type": "code",
     "collapsed": false,
     "input": [
      "pgi.add_metabolites({model.metabolites.get_by_id(\"h_c\"): -1})\n",
      "pgi.reaction"
     ],
     "language": "python",
     "metadata": {},
     "outputs": [
      {
       "metadata": {},
       "output_type": "pyout",
       "prompt_number": 10,
       "text": [
        "'g6p_c + h_c <=> f6p_c'"
       ]
      }
     ],
     "prompt_number": 10
    },
    {
     "cell_type": "markdown",
     "metadata": {},
     "source": [
      "The reaction is no longer mass balanced"
     ]
    },
    {
     "cell_type": "code",
     "collapsed": false,
     "input": [
      "pgi.check_mass_balance()"
     ],
     "language": "python",
     "metadata": {},
     "outputs": [
      {
       "metadata": {},
       "output_type": "pyout",
       "prompt_number": 11,
       "text": [
        "['PGI', {'C': 0.0, 'H': -1.0, 'O': 0.0, 'P': 0.0}]"
       ]
      }
     ],
     "prompt_number": 11
    },
    {
     "cell_type": "markdown",
     "metadata": {},
     "source": [
      "We can remove the metabolite, and the reaction will be balanced once again."
     ]
    },
    {
     "cell_type": "code",
     "collapsed": false,
     "input": [
      "pgi.pop(model.metabolites.get_by_id(\"h_c\"))\n",
      "print(pgi.reaction)\n",
      "print(pgi.check_mass_balance())"
     ],
     "language": "python",
     "metadata": {},
     "outputs": [
      {
       "output_type": "stream",
       "stream": "stdout",
       "text": [
        "g6p_c <=> f6p_c\n",
        "[]\n"
       ]
      }
     ],
     "prompt_number": 12
    },
    {
     "cell_type": "heading",
     "level": 2,
     "metadata": {},
     "source": [
      "Metabolites"
     ]
    },
    {
     "cell_type": "markdown",
     "metadata": {},
     "source": [
      "We will consider cytosolic atp as our metabolite, which has the id atp_c in our test model."
     ]
    },
    {
     "cell_type": "code",
     "collapsed": false,
     "input": [
      "atp = model.metabolites.get_by_id(\"atp_c\")\n",
      "atp"
     ],
     "language": "python",
     "metadata": {},
     "outputs": [
      {
       "metadata": {},
       "output_type": "pyout",
       "prompt_number": 13,
       "text": [
        "<Metabolite atp_c at 0x543e390>"
       ]
      }
     ],
     "prompt_number": 13
    },
    {
     "cell_type": "markdown",
     "metadata": {},
     "source": [
      "We can print out the metabolite name and compartment (cytosol in this case)."
     ]
    },
    {
     "cell_type": "code",
     "collapsed": false,
     "input": [
      "print(atp.name)\n",
      "print(atp.compartment)"
     ],
     "language": "python",
     "metadata": {},
     "outputs": [
      {
       "output_type": "stream",
       "stream": "stdout",
       "text": [
        "ATP\n",
        "c\n"
       ]
      }
     ],
     "prompt_number": 14
    },
    {
     "cell_type": "markdown",
     "metadata": {},
     "source": [
      "We can see that ATP is a charged molecule in our model."
     ]
    },
    {
     "cell_type": "code",
     "collapsed": false,
     "input": [
      "atp.charge"
     ],
     "language": "python",
     "metadata": {},
     "outputs": [
      {
       "metadata": {},
       "output_type": "pyout",
       "prompt_number": 15,
       "text": [
        "-4"
       ]
      }
     ],
     "prompt_number": 15
    },
    {
     "cell_type": "markdown",
     "metadata": {},
     "source": [
      "We can see the chemical formula for the metabolite as well."
     ]
    },
    {
     "cell_type": "code",
     "collapsed": false,
     "input": [
      "print(atp.formula)"
     ],
     "language": "python",
     "metadata": {},
     "outputs": [
      {
       "output_type": "stream",
       "stream": "stdout",
       "text": [
        "C10H12N5O13P3\n"
       ]
      }
     ],
     "prompt_number": 16
    },
    {
     "cell_type": "markdown",
     "metadata": {},
     "source": [
      "The reactions attribute gives a frozenset of all reactions using the given metabolite. We can use this to count the number of reactions which use atp."
     ]
    },
    {
     "cell_type": "code",
     "collapsed": false,
     "input": [
      "len(atp.reactions)"
     ],
     "language": "python",
     "metadata": {},
     "outputs": [
      {
       "metadata": {},
       "output_type": "pyout",
       "prompt_number": 17,
       "text": [
        "348"
       ]
      }
     ],
     "prompt_number": 17
    },
    {
     "cell_type": "markdown",
     "metadata": {},
     "source": [
      "A metabolite like glucose 6-phosphate will participate in fewer reactions."
     ]
    },
    {
     "cell_type": "code",
     "collapsed": false,
     "input": [
      "model.metabolites.get_by_id(\"g6p_c\").reactions"
     ],
     "language": "python",
     "metadata": {},
     "outputs": [
      {
       "metadata": {},
       "output_type": "pyout",
       "prompt_number": 18,
       "text": [
        "frozenset({<Reaction G6PDH2r at 0x61b6990>,\n",
        "           <Reaction G6PP at 0x61b6b90>,\n",
        "           <Reaction G6Pt6_2pp at 0x61b6c50>,\n",
        "           <Reaction GLCptspp at 0x61cc850>,\n",
        "           <Reaction HEX1 at 0x6375bd0>,\n",
        "           <Reaction PGI at 0x6711310>,\n",
        "           <Reaction PGMT at 0x6711890>,\n",
        "           <Reaction TRE6PH at 0x6a86250>,\n",
        "           <Reaction TRE6PS at 0x6a86510>,\n",
        "           <Reaction AB6PGH at 0x6e39b90>})"
       ]
      }
     ],
     "prompt_number": 18
    },
    {
     "cell_type": "heading",
     "level": 2,
     "metadata": {},
     "source": [
      "Genes"
     ]
    },
    {
     "cell_type": "markdown",
     "metadata": {},
     "source": [
      "The gene_reaction_rule is a boolean representation of the gene requirements for this reaction to be active as described in [Schellenberger et al 2011 Nature Protocols 6(9):1290-307](http://dx.doi.org/doi:10.1038/nprot.2011.308).\n",
      "\n",
      "The GPR is stored as the gene_reaction_rule for a Reaction object as a string."
     ]
    },
    {
     "cell_type": "code",
     "collapsed": false,
     "input": [
      "gpr = pgi.gene_reaction_rule\n",
      "gpr"
     ],
     "language": "python",
     "metadata": {},
     "outputs": [
      {
       "metadata": {},
       "output_type": "pyout",
       "prompt_number": 19,
       "text": [
        "'STM4221'"
       ]
      }
     ],
     "prompt_number": 19
    },
    {
     "cell_type": "markdown",
     "metadata": {},
     "source": [
      "Corresponding gene objects also exist. These objects are tracked by the reactions itself, as well as by the model"
     ]
    },
    {
     "cell_type": "code",
     "collapsed": false,
     "input": [
      "pgi.genes"
     ],
     "language": "python",
     "metadata": {},
     "outputs": [
      {
       "metadata": {},
       "output_type": "pyout",
       "prompt_number": 20,
       "text": [
        "frozenset({<Gene STM4221 at 0x6711390>})"
       ]
      }
     ],
     "prompt_number": 20
    },
    {
     "cell_type": "code",
     "collapsed": false,
     "input": [
      "pgi_gene = model.genes.get_by_id(\"STM4221\")\n",
      "pgi_gene"
     ],
     "language": "python",
     "metadata": {},
     "outputs": [
      {
       "metadata": {},
       "output_type": "pyout",
       "prompt_number": 21,
       "text": [
        "<Gene STM4221 at 0x6711390>"
       ]
      }
     ],
     "prompt_number": 21
    },
    {
     "cell_type": "markdown",
     "metadata": {},
     "source": [
      "Each gene keeps track of the reactions it catalyzes"
     ]
    },
    {
     "cell_type": "code",
     "collapsed": false,
     "input": [
      "pgi_gene.reactions"
     ],
     "language": "python",
     "metadata": {},
     "outputs": [
      {
       "metadata": {},
       "output_type": "pyout",
       "prompt_number": 22,
       "text": [
        "frozenset({<Reaction PGI at 0x6711310>})"
       ]
      }
     ],
     "prompt_number": 22
    },
    {
     "cell_type": "markdown",
     "metadata": {},
     "source": [
      "Altering the gene_reaction_rule will create new gene objects if necessary and update all relationships."
     ]
    },
    {
     "cell_type": "code",
     "collapsed": false,
     "input": [
      "pgi.gene_reaction_rule = \"(spam or eggs)\"\n",
      "pgi.genes"
     ],
     "language": "python",
     "metadata": {},
     "outputs": [
      {
       "metadata": {},
       "output_type": "pyout",
       "prompt_number": 23,
       "text": [
        "frozenset({<Gene eggs at 0x32cf390>, <Gene spam at 0x6e40b90>})"
       ]
      }
     ],
     "prompt_number": 23
    },
    {
     "cell_type": "code",
     "collapsed": false,
     "input": [
      "pgi_gene.reactions"
     ],
     "language": "python",
     "metadata": {},
     "outputs": [
      {
       "metadata": {},
       "output_type": "pyout",
       "prompt_number": 24,
       "text": [
        "frozenset()"
       ]
      }
     ],
     "prompt_number": 24
    },
    {
     "cell_type": "markdown",
     "metadata": {},
     "source": [
      "Newly created genes are also added to the model"
     ]
    },
    {
     "cell_type": "code",
     "collapsed": false,
     "input": [
      "model.genes.get_by_id(\"spam\")"
     ],
     "language": "python",
     "metadata": {},
     "outputs": [
      {
       "metadata": {},
       "output_type": "pyout",
       "prompt_number": 25,
       "text": [
        "<Gene spam at 0x6e40b90>"
       ]
      }
     ],
     "prompt_number": 25
    },
    {
     "cell_type": "markdown",
     "metadata": {},
     "source": [
      "The delete_model_genes function will evaluate the gpr and set the upper and lower bounds to 0 if the reaction is knocked out. This function can preserve existing deletions or reset them using the cumulative_deletions flag."
     ]
    },
    {
     "cell_type": "code",
     "collapsed": false,
     "input": [
      "cobra.manipulation.delete_model_genes(model, [\"spam\"], cumulative_deletions=True)\n",
      "print(pgi.lower_bound, \"< pgi <\", pgi.upper_bound)\n",
      "cobra.manipulation.delete_model_genes(model, [\"eggs\"], cumulative_deletions=True)\n",
      "print(pgi.lower_bound, \"< pgi <\", pgi.upper_bound)"
     ],
     "language": "python",
     "metadata": {},
     "outputs": [
      {
       "output_type": "stream",
       "stream": "stdout",
       "text": [
        "-1000.0 < pgi < 1000.0\n",
        "0.0 < pgi < 0.0\n"
       ]
      }
     ],
     "prompt_number": 26
    },
    {
     "cell_type": "markdown",
     "metadata": {},
     "source": [
      "The undelete_model_genes can be used to reset a gene deletion"
     ]
    },
    {
     "cell_type": "code",
     "collapsed": false,
     "input": [
      "cobra.manipulation.undelete_model_genes(model)\n",
      "print(pgi.lower_bound, \"< pgi <\", pgi.upper_bound)"
     ],
     "language": "python",
     "metadata": {},
     "outputs": [
      {
       "output_type": "stream",
       "stream": "stdout",
       "text": [
        "-1000.0 < pgi < 1000.0\n"
       ]
      }
     ],
     "prompt_number": 27
    }
   ],
   "metadata": {}
  }
 ]
}