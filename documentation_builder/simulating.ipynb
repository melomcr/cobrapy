{
 "metadata": {
  "name": "",
  "signature": "sha256:2c978fa134850ce153ec772810bd6094669dfc51c0a9e418b2793c02738eec19"
 },
 "nbformat": 3,
 "nbformat_minor": 0,
 "worksheets": [
  {
   "cells": [
    {
     "cell_type": "heading",
     "level": 1,
     "metadata": {},
     "source": [
      "Simulating with FBA"
     ]
    },
    {
     "cell_type": "markdown",
     "metadata": {},
     "source": [
      "This example is available as an IPython [notebook](http://nbviewer.ipython.org/github/opencobra/cobrapy/blob/master/documentation_builder/simulating.ipynb).\n",
      "\n",
      "Simulations using flux balance analysis can be solved using Model.optimize(). This will maximize or minimize (maximizing is the default) flux through the objective reactions.\n"
     ]
    },
    {
     "cell_type": "code",
     "collapsed": false,
     "input": [
      "import cobra.test\n",
      "model = cobra.test.create_test_model()\n"
     ],
     "language": "python",
     "metadata": {},
     "outputs": [],
     "prompt_number": 1
    },
    {
     "cell_type": "heading",
     "level": 2,
     "metadata": {},
     "source": [
      "Running FBA"
     ]
    },
    {
     "cell_type": "code",
     "collapsed": false,
     "input": [
      "model.optimize()"
     ],
     "language": "python",
     "metadata": {},
     "outputs": [
      {
       "metadata": {},
       "output_type": "pyout",
       "prompt_number": 2,
       "text": [
        "<Solution 0.38 at 0x660d990>"
       ]
      }
     ],
     "prompt_number": 2
    },
    {
     "cell_type": "markdown",
     "metadata": {},
     "source": [
      "The Model.optimize() function will return a Solution object, which will also be stored at model.solution. A solution object has several attributes:\n",
      "\n",
      " - f: the objective value\n",
      " - status: the status from the linear programming solver\n",
      " - x_dict: a dictionary of {reaction_id: flux_value} (also called \"primal\")\n",
      " - x: a list for x_dict\n",
      " - y_dict: a dictionary of {metabolite_id: dual_value}.\n",
      " - y: a list for y_dict"
     ]
    },
    {
     "cell_type": "markdown",
     "metadata": {},
     "source": [
      "For example, after the last call to model.optimize(), the status should be 'optimal' if the solver returned no errors, and f should be the objective value"
     ]
    },
    {
     "cell_type": "code",
     "collapsed": false,
     "input": [
      "model.solution.status"
     ],
     "language": "python",
     "metadata": {},
     "outputs": [
      {
       "metadata": {},
       "output_type": "pyout",
       "prompt_number": 3,
       "text": [
        "'optimal'"
       ]
      }
     ],
     "prompt_number": 3
    },
    {
     "cell_type": "code",
     "collapsed": false,
     "input": [
      "model.solution.f"
     ],
     "language": "python",
     "metadata": {},
     "outputs": [
      {
       "metadata": {},
       "output_type": "pyout",
       "prompt_number": 4,
       "text": [
        "0.38000797227551136"
       ]
      }
     ],
     "prompt_number": 4
    },
    {
     "cell_type": "heading",
     "level": 2,
     "metadata": {},
     "source": [
      "Changing the Objectives"
     ]
    },
    {
     "cell_type": "markdown",
     "metadata": {},
     "source": [
      "The objective function is determined from the objective_coefficient attribute of the objective reaction(s). Currently in the model, there is only one objective reaction, with an objective coefficient of 1."
     ]
    },
    {
     "cell_type": "code",
     "collapsed": false,
     "input": [
      "{reaction: reaction.objective_coefficient for reaction in model.reactions\n",
      "        if reaction.objective_coefficient > 0}"
     ],
     "language": "python",
     "metadata": {},
     "outputs": [
      {
       "metadata": {},
       "output_type": "pyout",
       "prompt_number": 5,
       "text": [
        "{<Reaction biomass_iRR1083_metals at 0x660d350>: 1.0}"
       ]
      }
     ],
     "prompt_number": 5
    },
    {
     "cell_type": "markdown",
     "metadata": {},
     "source": [
      "The objective function can be changed by using the function Model.change_objective, which will take either a reaction object or just its name."
     ]
    },
    {
     "cell_type": "code",
     "collapsed": false,
     "input": [
      "# change the objective to ATPM\n",
      "# the upper bound should be 1000 so we get the actual optimal value\n",
      "model.reactions.get_by_id(\"ATPM\").upper_bound = 1000.\n",
      "model.change_objective(\"ATPM\")\n",
      "{reaction: reaction.objective_coefficient for reaction in model.reactions\n",
      "        if reaction.objective_coefficient > 0}"
     ],
     "language": "python",
     "metadata": {},
     "outputs": [
      {
       "metadata": {},
       "output_type": "pyout",
       "prompt_number": 6,
       "text": [
        "{<Reaction ATPM at 0x52cb190>: 1.0}"
       ]
      }
     ],
     "prompt_number": 6
    },
    {
     "cell_type": "code",
     "collapsed": false,
     "input": [
      "model.optimize()"
     ],
     "language": "python",
     "metadata": {},
     "outputs": [
      {
       "metadata": {},
       "output_type": "pyout",
       "prompt_number": 7,
       "text": [
        "<Solution 119.67 at 0x4c93110>"
       ]
      }
     ],
     "prompt_number": 7
    },
    {
     "cell_type": "markdown",
     "metadata": {},
     "source": [
      "The objective function can also be changed by setting Reaction.objective_coefficient directly."
     ]
    },
    {
     "cell_type": "code",
     "collapsed": false,
     "input": [
      "model.reactions.get_by_id(\"ATPM\").objective_coefficient = 0.\n",
      "model.reactions.get_by_id(\"biomass_iRR1083_metals\").objective_coefficient = 1.\n",
      "{reaction: reaction.objective_coefficient for reaction in model.reactions\n",
      "        if reaction.objective_coefficient > 0}"
     ],
     "language": "python",
     "metadata": {},
     "outputs": [
      {
       "metadata": {},
       "output_type": "pyout",
       "prompt_number": 8,
       "text": [
        "{<Reaction biomass_iRR1083_metals at 0x660d350>: 1.0}"
       ]
      }
     ],
     "prompt_number": 8
    }
   ],
   "metadata": {}
  }
 ]
}